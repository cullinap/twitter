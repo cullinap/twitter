{
 "cells": [
  {
   "cell_type": "code",
   "execution_count": 3,
   "metadata": {},
   "outputs": [],
   "source": [
    "import tweepy\n",
    "import pandas as pd"
   ]
  },
  {
   "cell_type": "code",
   "execution_count": 10,
   "metadata": {},
   "outputs": [],
   "source": [
    "# import tokens from temp credential nb\n",
    "\n",
    "%run ./keys.ipynb"
   ]
  },
  {
   "cell_type": "code",
   "execution_count": 12,
   "metadata": {},
   "outputs": [],
   "source": [
    "# add authentication variables to api\n",
    "\n",
    "auth = tweepy.OAuthHandler(consumer_key, consumer_secret)\n",
    "auth.set_access_token(access_token, access_token_secret)\n",
    "api = tweepy.API(auth)"
   ]
  },
  {
   "cell_type": "code",
   "execution_count": 26,
   "metadata": {},
   "outputs": [],
   "source": [
    "'''\n",
    "user_cursor = tweepy.Cursor(api.user_timeline, \n",
    "                           id='zerohedge', \n",
    "                           tweet_mode='extended').items(1)\n",
    "                           \n",
    "\n",
    "\n",
    "kw_cursor = tweepy.Cursor(api.search, \n",
    "                           q='israel', \n",
    "                           tweet_mode='extended').items(1)\n",
    "\n",
    "for i in kw_cursor:\n",
    "    print(i.full_text)\n",
    "\n",
    "'''"
   ]
  },
  {
   "cell_type": "code",
   "execution_count": 28,
   "metadata": {},
   "outputs": [],
   "source": [
    "number_of_tweets = 200\n",
    "tweets = []\n",
    "likes = []\n",
    "time = []\n",
    "\n",
    "for i in tweepy.Cursor(api.search, \n",
    "                       q='Israel', \n",
    "                       tweet_mode='extended').items(number_of_tweets):\n",
    "    \n",
    "    tweets.append(i.full_text)\n",
    "    likes.append(i.favorite_count)\n",
    "    time.append(i.created_at)"
   ]
  },
  {
   "cell_type": "code",
   "execution_count": 30,
   "metadata": {},
   "outputs": [
    {
     "data": {
      "text/html": [
       "<div>\n",
       "<style scoped>\n",
       "    .dataframe tbody tr th:only-of-type {\n",
       "        vertical-align: middle;\n",
       "    }\n",
       "\n",
       "    .dataframe tbody tr th {\n",
       "        vertical-align: top;\n",
       "    }\n",
       "\n",
       "    .dataframe thead th {\n",
       "        text-align: right;\n",
       "    }\n",
       "</style>\n",
       "<table border=\"1\" class=\"dataframe\">\n",
       "  <thead>\n",
       "    <tr style=\"text-align: right;\">\n",
       "      <th></th>\n",
       "      <th>tweets</th>\n",
       "      <th>likes</th>\n",
       "      <th>time</th>\n",
       "    </tr>\n",
       "  </thead>\n",
       "  <tbody>\n",
       "    <tr>\n",
       "      <th>0</th>\n",
       "      <td>Welcome news that finally a ceasefire from Fri...</td>\n",
       "      <td>0</td>\n",
       "      <td>2021-05-20 20:24:16</td>\n",
       "    </tr>\n",
       "    <tr>\n",
       "      <th>1</th>\n",
       "      <td>@NBCNews It had to be Israel 🇮🇱 , Israel first...</td>\n",
       "      <td>0</td>\n",
       "      <td>2021-05-20 20:24:16</td>\n",
       "    </tr>\n",
       "    <tr>\n",
       "      <th>2</th>\n",
       "      <td>RT @AJEnglish: LIVE: Israel and Hamas agree on...</td>\n",
       "      <td>0</td>\n",
       "      <td>2021-05-20 20:24:16</td>\n",
       "    </tr>\n",
       "    <tr>\n",
       "      <th>3</th>\n",
       "      <td>RT @BeardedDevil_: Don't buy into this whole c...</td>\n",
       "      <td>0</td>\n",
       "      <td>2021-05-20 20:24:16</td>\n",
       "    </tr>\n",
       "    <tr>\n",
       "      <th>4</th>\n",
       "      <td>RT @Immy8713: @SkyNews Israel’s hit its target...</td>\n",
       "      <td>0</td>\n",
       "      <td>2021-05-20 20:24:16</td>\n",
       "    </tr>\n",
       "  </tbody>\n",
       "</table>\n",
       "</div>"
      ],
      "text/plain": [
       "                                              tweets  likes  \\\n",
       "0  Welcome news that finally a ceasefire from Fri...      0   \n",
       "1  @NBCNews It had to be Israel 🇮🇱 , Israel first...      0   \n",
       "2  RT @AJEnglish: LIVE: Israel and Hamas agree on...      0   \n",
       "3  RT @BeardedDevil_: Don't buy into this whole c...      0   \n",
       "4  RT @Immy8713: @SkyNews Israel’s hit its target...      0   \n",
       "\n",
       "                 time  \n",
       "0 2021-05-20 20:24:16  \n",
       "1 2021-05-20 20:24:16  \n",
       "2 2021-05-20 20:24:16  \n",
       "3 2021-05-20 20:24:16  \n",
       "4 2021-05-20 20:24:16  "
      ]
     },
     "execution_count": 30,
     "metadata": {},
     "output_type": "execute_result"
    }
   ],
   "source": [
    "df = pd.DataFrame({'tweets':tweets,'likes':likes, 'time':time}); df.head()"
   ]
  },
  {
   "cell_type": "code",
   "execution_count": 35,
   "metadata": {},
   "outputs": [
    {
     "data": {
      "text/html": [
       "<div>\n",
       "<style scoped>\n",
       "    .dataframe tbody tr th:only-of-type {\n",
       "        vertical-align: middle;\n",
       "    }\n",
       "\n",
       "    .dataframe tbody tr th {\n",
       "        vertical-align: top;\n",
       "    }\n",
       "\n",
       "    .dataframe thead th {\n",
       "        text-align: right;\n",
       "    }\n",
       "</style>\n",
       "<table border=\"1\" class=\"dataframe\">\n",
       "  <thead>\n",
       "    <tr style=\"text-align: right;\">\n",
       "      <th></th>\n",
       "      <th>tweets</th>\n",
       "      <th>likes</th>\n",
       "      <th>time</th>\n",
       "    </tr>\n",
       "  </thead>\n",
       "  <tbody>\n",
       "    <tr>\n",
       "      <th>0</th>\n",
       "      <td>Welcome news that finally a ceasefire from Fri...</td>\n",
       "      <td>0</td>\n",
       "      <td>2021-05-20 20:24:16</td>\n",
       "    </tr>\n",
       "    <tr>\n",
       "      <th>1</th>\n",
       "      <td>@NBCNews It had to be Israel 🇮🇱 , Israel first...</td>\n",
       "      <td>0</td>\n",
       "      <td>2021-05-20 20:24:16</td>\n",
       "    </tr>\n",
       "    <tr>\n",
       "      <th>2</th>\n",
       "      <td>As always, #FreePalestine.\\n\\nDon't let the ce...</td>\n",
       "      <td>0</td>\n",
       "      <td>2021-05-20 20:24:16</td>\n",
       "    </tr>\n",
       "    <tr>\n",
       "      <th>3</th>\n",
       "      <td>Israël et le Hamas s’accordent sur un cessez-l...</td>\n",
       "      <td>0</td>\n",
       "      <td>2021-05-20 20:24:16</td>\n",
       "    </tr>\n",
       "    <tr>\n",
       "      <th>4</th>\n",
       "      <td>#TRUMP\\nBABYLONIANS_MEDES_PERSIANS OTTAMAN EMP...</td>\n",
       "      <td>0</td>\n",
       "      <td>2021-05-20 20:24:15</td>\n",
       "    </tr>\n",
       "  </tbody>\n",
       "</table>\n",
       "</div>"
      ],
      "text/plain": [
       "                                              tweets  likes  \\\n",
       "0  Welcome news that finally a ceasefire from Fri...      0   \n",
       "1  @NBCNews It had to be Israel 🇮🇱 , Israel first...      0   \n",
       "2  As always, #FreePalestine.\\n\\nDon't let the ce...      0   \n",
       "3  Israël et le Hamas s’accordent sur un cessez-l...      0   \n",
       "4  #TRUMP\\nBABYLONIANS_MEDES_PERSIANS OTTAMAN EMP...      0   \n",
       "\n",
       "                 time  \n",
       "0 2021-05-20 20:24:16  \n",
       "1 2021-05-20 20:24:16  \n",
       "2 2021-05-20 20:24:16  \n",
       "3 2021-05-20 20:24:16  \n",
       "4 2021-05-20 20:24:15  "
      ]
     },
     "execution_count": 35,
     "metadata": {},
     "output_type": "execute_result"
    }
   ],
   "source": [
    "# remove retweets from tweets list\n",
    "\n",
    "df[~df.tweets.str.contains('RT')].reset_index(drop=True).head()"
   ]
  },
  {
   "cell_type": "code",
   "execution_count": null,
   "metadata": {},
   "outputs": [],
   "source": [
    "pd.to"
   ]
  }
 ],
 "metadata": {
  "kernelspec": {
   "display_name": "Python 3",
   "language": "python",
   "name": "python3"
  },
  "language_info": {
   "codemirror_mode": {
    "name": "ipython",
    "version": 3
   },
   "file_extension": ".py",
   "mimetype": "text/x-python",
   "name": "python",
   "nbconvert_exporter": "python",
   "pygments_lexer": "ipython3",
   "version": "3.8.5"
  }
 },
 "nbformat": 4,
 "nbformat_minor": 4
}
