{
 "cells": [
  {
   "cell_type": "code",
   "execution_count": 3,
   "metadata": {},
   "outputs": [],
   "source": [
    "import tweepy\n",
    "import pandas as pd"
   ]
  },
  {
   "cell_type": "code",
   "execution_count": 10,
   "metadata": {},
   "outputs": [],
   "source": [
    "%run ./keys.ipynb"
   ]
  },
  {
   "cell_type": "code",
   "execution_count": 12,
   "metadata": {},
   "outputs": [],
   "source": [
    "auth = tweepy.OAuthHandler(consumer_key, consumer_secret)\n",
    "auth.set_access_token(access_token, access_token_secret)\n",
    "api = tweepy.API(auth)"
   ]
  },
  {
   "cell_type": "code",
   "execution_count": 13,
   "metadata": {},
   "outputs": [],
   "source": [
    "cursor = tweepy.Cursor(api.user_timeline, \n",
    "                       id='zerohedge', \n",
    "                       tweet_mode='extended').items(1)"
   ]
  },
  {
   "cell_type": "code",
   "execution_count": 15,
   "metadata": {},
   "outputs": [
    {
     "name": "stdout",
     "output_type": "stream",
     "text": [
      "Status(_api=<tweepy.api.API object at 0x7f9e7125e520>, _json={'created_at': 'Thu May 20 20:02:51 +0000 2021', 'id': 1395470093828640768, 'id_str': '1395470093828640768', 'full_text': 'Bitcoin, Big-Tech, Bullion, &amp; Bonds Bounce As Breakevens, Black Gold, &amp; The Buck Breakdown https://t.co/M0sB0kd4Ut', 'truncated': False, 'display_text_range': [0, 122], 'entities': {'hashtags': [], 'symbols': [], 'user_mentions': [], 'urls': [{'url': 'https://t.co/M0sB0kd4Ut', 'expanded_url': 'https://www.zerohedge.com/markets/bitcoin-big-tech-bonds-bounce-breakevens-buck-breakdown', 'display_url': 'zerohedge.com/markets/bitcoi…', 'indices': [99, 122]}]}, 'source': '<a href=\"http://www.zerohedge.com/\" rel=\"nofollow\">Zero Hedge Publisher II</a>', 'in_reply_to_status_id': None, 'in_reply_to_status_id_str': None, 'in_reply_to_user_id': None, 'in_reply_to_user_id_str': None, 'in_reply_to_screen_name': None, 'user': {'id': 18856867, 'id_str': '18856867', 'name': 'zerohedge', 'screen_name': 'zerohedge', 'location': '', 'description': '', 'url': 'http://t.co/VnB2R3phwV', 'entities': {'url': {'urls': [{'url': 'http://t.co/VnB2R3phwV', 'expanded_url': 'http://www.zerohedge.com', 'display_url': 'zerohedge.com', 'indices': [0, 22]}]}, 'description': {'urls': []}}, 'protected': False, 'followers_count': 979979, 'friends_count': 798, 'listed_count': 20226, 'created_at': 'Sun Jan 11 04:08:58 +0000 2009', 'favourites_count': 15, 'utc_offset': None, 'time_zone': None, 'geo_enabled': False, 'verified': False, 'statuses_count': 425487, 'lang': None, 'contributors_enabled': False, 'is_translator': False, 'is_translation_enabled': False, 'profile_background_color': 'C0DEED', 'profile_background_image_url': 'http://abs.twimg.com/images/themes/theme1/bg.png', 'profile_background_image_url_https': 'https://abs.twimg.com/images/themes/theme1/bg.png', 'profile_background_tile': False, 'profile_image_url': 'http://pbs.twimg.com/profile_images/72647502/tyler_normal.jpg', 'profile_image_url_https': 'https://pbs.twimg.com/profile_images/72647502/tyler_normal.jpg', 'profile_link_color': '1DA1F2', 'profile_sidebar_border_color': 'C0DEED', 'profile_sidebar_fill_color': 'DDEEF6', 'profile_text_color': '333333', 'profile_use_background_image': True, 'has_extended_profile': False, 'default_profile': True, 'default_profile_image': False, 'following': True, 'follow_request_sent': False, 'notifications': False, 'translator_type': 'regular', 'withheld_in_countries': []}, 'geo': None, 'coordinates': None, 'place': None, 'contributors': None, 'is_quote_status': False, 'retweet_count': 10, 'favorite_count': 26, 'favorited': False, 'retweeted': False, 'possibly_sensitive': False, 'lang': 'en'}, created_at=datetime.datetime(2021, 5, 20, 20, 2, 51), id=1395470093828640768, id_str='1395470093828640768', full_text='Bitcoin, Big-Tech, Bullion, &amp; Bonds Bounce As Breakevens, Black Gold, &amp; The Buck Breakdown https://t.co/M0sB0kd4Ut', truncated=False, display_text_range=[0, 122], entities={'hashtags': [], 'symbols': [], 'user_mentions': [], 'urls': [{'url': 'https://t.co/M0sB0kd4Ut', 'expanded_url': 'https://www.zerohedge.com/markets/bitcoin-big-tech-bonds-bounce-breakevens-buck-breakdown', 'display_url': 'zerohedge.com/markets/bitcoi…', 'indices': [99, 122]}]}, source='Zero Hedge Publisher II', source_url='http://www.zerohedge.com/', in_reply_to_status_id=None, in_reply_to_status_id_str=None, in_reply_to_user_id=None, in_reply_to_user_id_str=None, in_reply_to_screen_name=None, author=User(_api=<tweepy.api.API object at 0x7f9e7125e520>, _json={'id': 18856867, 'id_str': '18856867', 'name': 'zerohedge', 'screen_name': 'zerohedge', 'location': '', 'description': '', 'url': 'http://t.co/VnB2R3phwV', 'entities': {'url': {'urls': [{'url': 'http://t.co/VnB2R3phwV', 'expanded_url': 'http://www.zerohedge.com', 'display_url': 'zerohedge.com', 'indices': [0, 22]}]}, 'description': {'urls': []}}, 'protected': False, 'followers_count': 979979, 'friends_count': 798, 'listed_count': 20226, 'created_at': 'Sun Jan 11 04:08:58 +0000 2009', 'favourites_count': 15, 'utc_offset': None, 'time_zone': None, 'geo_enabled': False, 'verified': False, 'statuses_count': 425487, 'lang': None, 'contributors_enabled': False, 'is_translator': False, 'is_translation_enabled': False, 'profile_background_color': 'C0DEED', 'profile_background_image_url': 'http://abs.twimg.com/images/themes/theme1/bg.png', 'profile_background_image_url_https': 'https://abs.twimg.com/images/themes/theme1/bg.png', 'profile_background_tile': False, 'profile_image_url': 'http://pbs.twimg.com/profile_images/72647502/tyler_normal.jpg', 'profile_image_url_https': 'https://pbs.twimg.com/profile_images/72647502/tyler_normal.jpg', 'profile_link_color': '1DA1F2', 'profile_sidebar_border_color': 'C0DEED', 'profile_sidebar_fill_color': 'DDEEF6', 'profile_text_color': '333333', 'profile_use_background_image': True, 'has_extended_profile': False, 'default_profile': True, 'default_profile_image': False, 'following': True, 'follow_request_sent': False, 'notifications': False, 'translator_type': 'regular', 'withheld_in_countries': []}, id=18856867, id_str='18856867', name='zerohedge', screen_name='zerohedge', location='', description='', url='http://t.co/VnB2R3phwV', entities={'url': {'urls': [{'url': 'http://t.co/VnB2R3phwV', 'expanded_url': 'http://www.zerohedge.com', 'display_url': 'zerohedge.com', 'indices': [0, 22]}]}, 'description': {'urls': []}}, protected=False, followers_count=979979, friends_count=798, listed_count=20226, created_at=datetime.datetime(2009, 1, 11, 4, 8, 58), favourites_count=15, utc_offset=None, time_zone=None, geo_enabled=False, verified=False, statuses_count=425487, lang=None, contributors_enabled=False, is_translator=False, is_translation_enabled=False, profile_background_color='C0DEED', profile_background_image_url='http://abs.twimg.com/images/themes/theme1/bg.png', profile_background_image_url_https='https://abs.twimg.com/images/themes/theme1/bg.png', profile_background_tile=False, profile_image_url='http://pbs.twimg.com/profile_images/72647502/tyler_normal.jpg', profile_image_url_https='https://pbs.twimg.com/profile_images/72647502/tyler_normal.jpg', profile_link_color='1DA1F2', profile_sidebar_border_color='C0DEED', profile_sidebar_fill_color='DDEEF6', profile_text_color='333333', profile_use_background_image=True, has_extended_profile=False, default_profile=True, default_profile_image=False, following=True, follow_request_sent=False, notifications=False, translator_type='regular', withheld_in_countries=[]), user=User(_api=<tweepy.api.API object at 0x7f9e7125e520>, _json={'id': 18856867, 'id_str': '18856867', 'name': 'zerohedge', 'screen_name': 'zerohedge', 'location': '', 'description': '', 'url': 'http://t.co/VnB2R3phwV', 'entities': {'url': {'urls': [{'url': 'http://t.co/VnB2R3phwV', 'expanded_url': 'http://www.zerohedge.com', 'display_url': 'zerohedge.com', 'indices': [0, 22]}]}, 'description': {'urls': []}}, 'protected': False, 'followers_count': 979979, 'friends_count': 798, 'listed_count': 20226, 'created_at': 'Sun Jan 11 04:08:58 +0000 2009', 'favourites_count': 15, 'utc_offset': None, 'time_zone': None, 'geo_enabled': False, 'verified': False, 'statuses_count': 425487, 'lang': None, 'contributors_enabled': False, 'is_translator': False, 'is_translation_enabled': False, 'profile_background_color': 'C0DEED', 'profile_background_image_url': 'http://abs.twimg.com/images/themes/theme1/bg.png', 'profile_background_image_url_https': 'https://abs.twimg.com/images/themes/theme1/bg.png', 'profile_background_tile': False, 'profile_image_url': 'http://pbs.twimg.com/profile_images/72647502/tyler_normal.jpg', 'profile_image_url_https': 'https://pbs.twimg.com/profile_images/72647502/tyler_normal.jpg', 'profile_link_color': '1DA1F2', 'profile_sidebar_border_color': 'C0DEED', 'profile_sidebar_fill_color': 'DDEEF6', 'profile_text_color': '333333', 'profile_use_background_image': True, 'has_extended_profile': False, 'default_profile': True, 'default_profile_image': False, 'following': True, 'follow_request_sent': False, 'notifications': False, 'translator_type': 'regular', 'withheld_in_countries': []}, id=18856867, id_str='18856867', name='zerohedge', screen_name='zerohedge', location='', description='', url='http://t.co/VnB2R3phwV', entities={'url': {'urls': [{'url': 'http://t.co/VnB2R3phwV', 'expanded_url': 'http://www.zerohedge.com', 'display_url': 'zerohedge.com', 'indices': [0, 22]}]}, 'description': {'urls': []}}, protected=False, followers_count=979979, friends_count=798, listed_count=20226, created_at=datetime.datetime(2009, 1, 11, 4, 8, 58), favourites_count=15, utc_offset=None, time_zone=None, geo_enabled=False, verified=False, statuses_count=425487, lang=None, contributors_enabled=False, is_translator=False, is_translation_enabled=False, profile_background_color='C0DEED', profile_background_image_url='http://abs.twimg.com/images/themes/theme1/bg.png', profile_background_image_url_https='https://abs.twimg.com/images/themes/theme1/bg.png', profile_background_tile=False, profile_image_url='http://pbs.twimg.com/profile_images/72647502/tyler_normal.jpg', profile_image_url_https='https://pbs.twimg.com/profile_images/72647502/tyler_normal.jpg', profile_link_color='1DA1F2', profile_sidebar_border_color='C0DEED', profile_sidebar_fill_color='DDEEF6', profile_text_color='333333', profile_use_background_image=True, has_extended_profile=False, default_profile=True, default_profile_image=False, following=True, follow_request_sent=False, notifications=False, translator_type='regular', withheld_in_countries=[]), geo=None, coordinates=None, place=None, contributors=None, is_quote_status=False, retweet_count=10, favorite_count=26, favorited=False, retweeted=False, possibly_sensitive=False, lang='en')\n"
     ]
    }
   ],
   "source": [
    "for i in cursor:\n",
    "    print(i)"
   ]
  },
  {
   "cell_type": "code",
   "execution_count": null,
   "metadata": {},
   "outputs": [],
   "source": []
  }
 ],
 "metadata": {
  "kernelspec": {
   "display_name": "Python 3",
   "language": "python",
   "name": "python3"
  },
  "language_info": {
   "codemirror_mode": {
    "name": "ipython",
    "version": 3
   },
   "file_extension": ".py",
   "mimetype": "text/x-python",
   "name": "python",
   "nbconvert_exporter": "python",
   "pygments_lexer": "ipython3",
   "version": "3.8.5"
  }
 },
 "nbformat": 4,
 "nbformat_minor": 4
}
