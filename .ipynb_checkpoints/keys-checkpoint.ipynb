{
 "cells": [
  {
   "cell_type": "code",
   "execution_count": 2,
   "metadata": {},
   "outputs": [],
   "source": [
    "consumer_key = \"D7zBo1wbQwRQ4hfqqrtQEVyI6\"\n",
    "consumer_secret = \"7vpLgV9H6vxBBjfjZJBxiu3LHlgdnUVaR42obmlFWgpC1Zra6z\"\n",
    "access_token = \"1298979688723832835-dbkVSNeDm936O6EccM0vQiYwL9hhz5\"\n",
    "access_token_secret = \"kxZqURjTcSRsNNCMGFE7k8SPSlVTHLtFAJXD5UKoRIIag\"\n",
    "\n"
   ]
  },
  {
   "cell_type": "code",
   "execution_count": null,
   "metadata": {},
   "outputs": [],
   "source": []
  }
 ],
 "metadata": {
  "kernelspec": {
   "display_name": "Python 3",
   "language": "python",
   "name": "python3"
  },
  "language_info": {
   "codemirror_mode": {
    "name": "ipython",
    "version": 3
   },
   "file_extension": ".py",
   "mimetype": "text/x-python",
   "name": "python",
   "nbconvert_exporter": "python",
   "pygments_lexer": "ipython3",
   "version": "3.8.5"
  }
 },
 "nbformat": 4,
 "nbformat_minor": 4
}
